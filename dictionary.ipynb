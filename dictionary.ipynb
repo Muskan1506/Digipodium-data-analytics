{
 "cells": [
  {
   "cell_type": "code",
   "execution_count": 1,
   "metadata": {},
   "outputs": [],
   "source": [
    "lbs_info = {\n",
    "    'full name': \"lal bahadur shastri college\",\n",
    "    'short name': 'lbs',\n",
    "    'short name':440,\n",
    "    'culture': 'mood kharab bacche'\n",
    "}\n"
   ]
  },
  {
   "cell_type": "code",
   "execution_count": null,
   "metadata": {},
   "outputs": [],
   "source": []
  },
  {
   "cell_type": "code",
   "execution_count": 2,
   "metadata": {},
   "outputs": [],
   "source": [
    "movies ={\n",
    "    'suryavansham':{\n",
    "        'streamed on':'sony max',\n",
    "        'plot': 'rich father doesnot like his son',\n",
    "        'rating':10,\n",
    "    },\n",
    "    'ghajini':{\n",
    "        'plot': 'rich person forgets everything after 15 minutes',\n",
    "        'rating': 10,\n",
    "        'streamed on': 'jio cinema'\n",
    "    },\n",
    "    'krrish3':{\n",
    "        'streamed on':'sony max',\n",
    "        'plot': 'krrish and his father defeat human-animal mutants created by evil',\n",
    "        'rating': '10',\n",
    "    },\n",
    "    'holiday':{\n",
    "        'streamed on': 'star gold',\n",
    "        'plot': 'soldier',\n",
    "        'rating': 10,\n",
    "    }\n",
    "}"
   ]
  },
  {
   "attachments": {},
   "cell_type": "markdown",
   "metadata": {},
   "source": [
    "adding data"
   ]
  },
  {
   "cell_type": "code",
   "execution_count": 3,
   "metadata": {},
   "outputs": [
    {
     "data": {
      "text/plain": [
       "{'plot': 'rich person forgets everything after 15 minutes',\n",
       " 'rating': 10,\n",
       " 'streamed on': 'jio cinema'}"
      ]
     },
     "execution_count": 3,
     "metadata": {},
     "output_type": "execute_result"
    }
   ],
   "source": [
    "movies['ghajini']"
   ]
  },
  {
   "cell_type": "code",
   "execution_count": 4,
   "metadata": {},
   "outputs": [
    {
     "data": {
      "text/plain": [
       "{'streamed on': 'star gold', 'plot': 'soldier', 'rating': 10}"
      ]
     },
     "execution_count": 4,
     "metadata": {},
     "output_type": "execute_result"
    }
   ],
   "source": [
    "movies['holiday']"
   ]
  },
  {
   "cell_type": "code",
   "execution_count": 5,
   "metadata": {},
   "outputs": [
    {
     "data": {
      "text/plain": [
       "['suryavansham', 'ghajini', 'krrish3', 'holiday']"
      ]
     },
     "execution_count": 5,
     "metadata": {},
     "output_type": "execute_result"
    }
   ],
   "source": [
    "# getting only keys \n",
    "list (movies.keys ())"
   ]
  },
  {
   "cell_type": "code",
   "execution_count": 6,
   "metadata": {},
   "outputs": [
    {
     "data": {
      "text/plain": [
       "[{'streamed on': 'sony max',\n",
       "  'plot': 'rich father doesnot like his son',\n",
       "  'rating': 10},\n",
       " {'plot': 'rich person forgets everything after 15 minutes',\n",
       "  'rating': 10,\n",
       "  'streamed on': 'jio cinema'},\n",
       " {'streamed on': 'sony max',\n",
       "  'plot': 'krrish and his father defeat human-animal mutants created by evil',\n",
       "  'rating': '10'},\n",
       " {'streamed on': 'star gold', 'plot': 'soldier', 'rating': 10}]"
      ]
     },
     "execution_count": 6,
     "metadata": {},
     "output_type": "execute_result"
    }
   ],
   "source": [
    "# getting only values \n",
    "list(movies.values())"
   ]
  },
  {
   "cell_type": "code",
   "execution_count": 9,
   "metadata": {},
   "outputs": [
    {
     "data": {
      "text/plain": [
       "dict_items([('suryavansham', {'streamed on': 'sony max', 'plot': 'rich father doesnot like his son', 'rating': 10}), ('ghajini', {'plot': 'rich person forgets everything after 15 minutes', 'rating': 10, 'streamed on': 'jio cinema'}), ('krrish3', {'streamed on': 'sony max', 'plot': 'krrish and his father defeat human-animal mutants created by evil', 'rating': '10'}), ('holiday', {'streamed on': 'star gold', 'plot': 'soldier', 'rating': 10})])"
      ]
     },
     "execution_count": 9,
     "metadata": {},
     "output_type": "execute_result"
    }
   ],
   "source": [
    "# getting both keys and values as pair \n",
    "movies.items()"
   ]
  },
  {
   "cell_type": "code",
   "execution_count": 11,
   "metadata": {},
   "outputs": [
    {
     "name": "stdout",
     "output_type": "stream",
     "text": [
      "SURYAVANSHAM\n",
      "streamed on    sony max\n",
      "plot           rich father doesnot like his son\n",
      "rating         10\n",
      "\n",
      "GHAJINI\n",
      "plot           rich person forgets everything after 15 minutes\n",
      "rating         10\n",
      "streamed on    jio cinema\n",
      "\n",
      "KRRISH3\n",
      "streamed on    sony max\n",
      "plot           krrish and his father defeat human-animal mutants created by evil\n",
      "rating         10\n",
      "\n",
      "HOLIDAY\n",
      "streamed on    star gold\n",
      "plot           soldier\n",
      "rating         10\n",
      "\n"
     ]
    }
   ],
   "source": [
    "for title , details in movies. items():\n",
    "    print(title.upper())\n",
    "    for entry,values in details.items():\n",
    "        print(f'{entry:15}{values}')\n",
    "    print()"
   ]
  },
  {
   "cell_type": "code",
   "execution_count": 12,
   "metadata": {},
   "outputs": [
    {
     "name": "stdout",
     "output_type": "stream",
     "text": [
      "{'suryavansham': {'streamed on': 'sony max', 'plot': 'rich father doesnot like his son', 'rating': 10}, 'krrish3': {'streamed on': 'sony max', 'plot': 'krrish and his father defeat human-animal mutants created by evil', 'rating': '10'}, 'holiday': {'streamed on': 'star gold', 'plot': 'soldier', 'rating': 10}}\n"
     ]
    }
   ],
   "source": [
    "movies.pop('ghajini')\n",
    "print(movies)"
   ]
  },
  {
   "cell_type": "code",
   "execution_count": null,
   "metadata": {},
   "outputs": [],
   "source": []
  }
 ],
 "metadata": {
  "kernelspec": {
   "display_name": "base",
   "language": "python",
   "name": "python3"
  },
  "language_info": {
   "codemirror_mode": {
    "name": "ipython",
    "version": 3
   },
   "file_extension": ".py",
   "mimetype": "text/x-python",
   "name": "python",
   "nbconvert_exporter": "python",
   "pygments_lexer": "ipython3",
   "version": "3.10.10"
  },
  "orig_nbformat": 4
 },
 "nbformat": 4,
 "nbformat_minor": 2
}
