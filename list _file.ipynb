{
 "cells": [
  {
   "cell_type": "code",
   "execution_count": 15,
   "metadata": {},
   "outputs": [
    {
     "name": "stdout",
     "output_type": "stream",
     "text": [
      "[1, 2, 3, 'muskan', 'muskan singh']\n",
      "muskan singh\n",
      "[1, 2, 3, 'muskan']\n",
      "2\n",
      "[1, 3, 'muskan']\n",
      "None\n",
      "[1, 3]\n"
     ]
    }
   ],
   "source": [
    "arr=[1,2,3,'muskan']\n",
    "arr.append('muskan singh')\n",
    "print(arr)\n",
    "\n",
    "\n",
    "#Pop\n",
    "x=arr.pop()\n",
    "print(x)\n",
    "print(arr)\n",
    "print(arr.pop(1))\n",
    "print(arr)\n",
    "\n",
    "#Remove\n",
    "\n",
    "print(arr.remove(\"muskan\"))\n",
    "print(arr)\n",
    "\n"
   ]
  },
  {
   "cell_type": "code",
   "execution_count": 16,
   "metadata": {},
   "outputs": [
    {
     "name": "stdout",
     "output_type": "stream",
     "text": [
      "1000\n",
      "-1\n"
     ]
    }
   ],
   "source": [
    "arr1= [1,2,3,4,5,6,1000,-1,0,124]\n",
    "#MAX\n",
    "print(max(arr1))\n",
    "#MIN\n",
    "print(min(arr1))"
   ]
  },
  {
   "cell_type": "code",
   "execution_count": 22,
   "metadata": {},
   "outputs": [
    {
     "name": "stdout",
     "output_type": "stream",
     "text": [
      "c\n",
      "a\n"
     ]
    }
   ],
   "source": [
    "arr=['a','b','c']\n",
    "print(max(arr))\n",
    "print(min(arr))"
   ]
  },
  {
   "cell_type": "code",
   "execution_count": 17,
   "metadata": {},
   "outputs": [
    {
     "name": "stdout",
     "output_type": "stream",
     "text": [
      "[124, 0, -1, 1000, 6, 5, 4, 3, 2, 1]\n",
      "[1, 2, 3, 4, 5, 6, 1000, -1, 0, 124]\n"
     ]
    }
   ],
   "source": [
    "# reverse\n",
    "arr1.reverse()\n",
    "print(arr1)\n",
    "print(arr1[::-1])"
   ]
  },
  {
   "cell_type": "code",
   "execution_count": 18,
   "metadata": {},
   "outputs": [
    {
     "name": "stdout",
     "output_type": "stream",
     "text": [
      "6\n"
     ]
    }
   ],
   "source": [
    "#COUNT\n",
    "\n",
    "arr1=(1,2,3,3,2,1,1,1,3,3,3,3)\n",
    "print(arr1.count(3))"
   ]
  },
  {
   "cell_type": "code",
   "execution_count": 19,
   "metadata": {},
   "outputs": [
    {
     "name": "stdout",
     "output_type": "stream",
     "text": [
      "[1000, 123, 23, 1, 0, -1, -12234]\n"
     ]
    }
   ],
   "source": [
    "#Sort\n",
    "arr1=[0,1,-1,123,-12234,1000,23]\n",
    "arr1.sort(reverse=True)\n",
    "print(arr1)"
   ]
  },
  {
   "cell_type": "code",
   "execution_count": 20,
   "metadata": {},
   "outputs": [
    {
     "name": "stdout",
     "output_type": "stream",
     "text": [
      "[1, 2, 3, 1, 2, 3, 4, 45, 36, -1, 23, -45, 123]\n"
     ]
    }
   ],
   "source": [
    "#Extend Method\n",
    "arr1=[1,2,3]\n",
    "arr1.extend([1,2,3,4,45,36,-1,23,-45,123])\n",
    "print(arr1)"
   ]
  },
  {
   "cell_type": "code",
   "execution_count": null,
   "metadata": {},
   "outputs": [],
   "source": []
  }
 ],
 "metadata": {
  "kernelspec": {
   "display_name": "base",
   "language": "python",
   "name": "python3"
  },
  "language_info": {
   "codemirror_mode": {
    "name": "ipython",
    "version": 3
   },
   "file_extension": ".py",
   "mimetype": "text/x-python",
   "name": "python",
   "nbconvert_exporter": "python",
   "pygments_lexer": "ipython3",
   "version": "3.10.10"
  },
  "orig_nbformat": 4
 },
 "nbformat": 4,
 "nbformat_minor": 2
}
