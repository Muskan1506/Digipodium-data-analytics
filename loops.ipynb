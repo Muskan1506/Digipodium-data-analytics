{
 "cells": [
  {
   "attachments": {},
   "cell_type": "markdown",
   "metadata": {},
   "source": [
    "for and while loops\n",
    "\n",
    "for- step based loop \n",
    "\n",
    "for i in range (10);\n",
    " print (i)\n",
    "\n",
    " - used for \n",
    "    - iterating over a sequence (list,tuple,string)\n",
    "    - iterating over a range \n",
    "\n"
   ]
  },
  {
   "cell_type": "code",
   "execution_count": 3,
   "metadata": {},
   "outputs": [],
   "source": [
    " movies = ['shrek','kungfu panda','mermaid','holiday','the jugle book','stranger things',\n",
    "           'kgf','bahubali', 'aladdin','the lion king']\n",
    "           "
   ]
  },
  {
   "cell_type": "code",
   "execution_count": 2,
   "metadata": {},
   "outputs": [
    {
     "name": "stdout",
     "output_type": "stream",
     "text": [
      "total movies = 10\n"
     ]
    }
   ],
   "source": [
    "print (f'total movies = {len(movies)}')"
   ]
  },
  {
   "cell_type": "code",
   "execution_count": 4,
   "metadata": {},
   "outputs": [
    {
     "name": "stdout",
     "output_type": "stream",
     "text": [
      "shrek\n",
      "kungfu panda\n",
      "mermaid\n",
      "holiday\n",
      "the jugle book\n",
      "stranger things\n",
      "kgf\n",
      "bahubali\n",
      "aladdin\n",
      "the lion king\n"
     ]
    }
   ],
   "source": [
    "for movie in movies:\n",
    "    print (movie)\n",
    "     "
   ]
  },
  {
   "cell_type": "code",
   "execution_count": 6,
   "metadata": {},
   "outputs": [
    {
     "name": "stdout",
     "output_type": "stream",
     "text": [
      "shrek 5\n",
      "kungfu panda 12\n",
      "mermaid 7\n",
      "holiday 7\n",
      "the jugle book 14\n",
      "stranger things 15\n",
      "kgf 3\n",
      "bahubali 8\n",
      "aladdin 7\n",
      "the lion king 13\n"
     ]
    }
   ],
   "source": [
    "for movie in movies :\n",
    "     print( movie, len(movie))"
   ]
  },
  {
   "cell_type": "code",
   "execution_count": 10,
   "metadata": {},
   "outputs": [
    {
     "name": "stdout",
     "output_type": "stream",
     "text": [
      "shrek                                    5\n",
      "kungfu panda                             12\n",
      "mermaid                                  7\n",
      "holiday                                  7\n",
      "the jugle book                           14\n",
      "stranger things                          15\n",
      "kgf                                      3\n",
      "bahubali                                 8\n",
      "aladdin                                  7\n",
      "the lion king                            13\n"
     ]
    }
   ],
   "source": [
    "for movie in movies:\n",
    "    print (f'{movie:40} {len(movie)}')"
   ]
  },
  {
   "cell_type": "code",
   "execution_count": 18,
   "metadata": {},
   "outputs": [
    {
     "name": "stdout",
     "output_type": "stream",
     "text": [
      "32 1024\n",
      "56 3136\n",
      "23 529\n",
      "56 3136\n",
      "12 144\n",
      "45 2025\n",
      "34 1156\n",
      "67 4489\n",
      "10 100\n"
     ]
    }
   ],
   "source": [
    "nums = [32,56,23,56,12,45,34,67,10]\n",
    "for i in nums:\n",
    "   print(i, i**2)"
   ]
  },
  {
   "cell_type": "code",
   "execution_count": 19,
   "metadata": {},
   "outputs": [
    {
     "name": "stdout",
     "output_type": "stream",
     "text": [
      "32 34\n",
      "56 58\n",
      "23 25\n",
      "56 58\n",
      "12 14\n",
      "45 47\n",
      "34 36\n",
      "67 69\n",
      "10 12\n"
     ]
    }
   ],
   "source": [
    "nums = [ 32,56,23,56,12,45,34,67,10]\n",
    "for i in nums:\n",
    "    print(i,i+2)"
   ]
  },
  {
   "cell_type": "code",
   "execution_count": 20,
   "metadata": {},
   "outputs": [
    {
     "data": {
      "text/plain": [
       "335"
      ]
     },
     "execution_count": 20,
     "metadata": {},
     "output_type": "execute_result"
    }
   ],
   "source": [
    "sum (nums)"
   ]
  },
  {
   "cell_type": "code",
   "execution_count": 21,
   "metadata": {},
   "outputs": [
    {
     "name": "stdout",
     "output_type": "stream",
     "text": [
      "200\n"
     ]
    }
   ],
   "source": [
    "total_evens = 0\n",
    "for i in nums:\n",
    "    if i%2==0:\n",
    "        total_evens += i\n",
    "print (total_evens)"
   ]
  },
  {
   "cell_type": "code",
   "execution_count": 22,
   "metadata": {},
   "outputs": [
    {
     "name": "stdout",
     "output_type": "stream",
     "text": [
      "32\n",
      "56\n",
      "23\n",
      "56\n",
      "12\n",
      "45\n",
      "34\n",
      "67\n"
     ]
    }
   ],
   "source": [
    "for i in nums:\n",
    "    print(i) \n",
    "    if i>60:\n",
    "        break"
   ]
  },
  {
   "cell_type": "code",
   "execution_count": 23,
   "metadata": {},
   "outputs": [
    {
     "name": "stdout",
     "output_type": "stream",
     "text": [
      "apple\n",
      "orange\n",
      "banana\n",
      " \n",
      "mango\n"
     ]
    }
   ],
   "source": [
    "x =['apple','orange','banana',' ','mango']\n",
    "for item in x:\n",
    "    print(item)\n",
    "    \n",
    "    "
   ]
  },
  {
   "cell_type": "code",
   "execution_count": 25,
   "metadata": {},
   "outputs": [
    {
     "name": "stdout",
     "output_type": "stream",
     "text": [
      "apple\n",
      "mango\n",
      "orange\n"
     ]
    }
   ],
   "source": [
    "x =['apple','mango','orange','','banana']\n",
    "for item in x:\n",
    "    if len (item)==0:\n",
    "        break \n",
    "    print(item)"
   ]
  },
  {
   "cell_type": "code",
   "execution_count": 2,
   "metadata": {},
   "outputs": [
    {
     "name": "stdout",
     "output_type": "stream",
     "text": [
      "invalid username/password\n",
      "invalid username/password\n",
      "login successful\n"
     ]
    }
   ],
   "source": [
    "errors =0\n",
    "while True:\n",
    "    username = input ('enter username:')\n",
    "    password = input ('enter password:')\n",
    "    if username == 'admin'and password =='secret':\n",
    "      print('login successful')\n",
    "      break\n",
    "    elif errors == 3:\n",
    "      print('too many errors')\n",
    "      break\n",
    "    else:\n",
    "      print('invalid username/password')\n",
    "      errors+=1\n",
    "\n",
    "\n"
   ]
  },
  {
   "cell_type": "code",
   "execution_count": 3,
   "metadata": {},
   "outputs": [],
   "source": [
    "x =[\n",
    "    ['warbraeker',455],\n",
    "    ['the way of king',599],\n",
    "    ['words of radiance',699],\n",
    "    ['art and culture',566],\n",
    "    ['rhythm of war',455],\n",
    "]"
   ]
  },
  {
   "cell_type": "code",
   "execution_count": 4,
   "metadata": {},
   "outputs": [
    {
     "name": "stdout",
     "output_type": "stream",
     "text": [
      "warbraeker\n",
      "--\n",
      "455\n",
      "--\n",
      "the way of king\n",
      "--\n",
      "599\n",
      "--\n",
      "words of radiance\n",
      "--\n",
      "699\n",
      "--\n",
      "art and culture\n",
      "--\n",
      "566\n",
      "--\n",
      "rhythm of war\n",
      "--\n",
      "455\n",
      "--\n"
     ]
    }
   ],
   "source": [
    "for item in x:\n",
    "    for data in item:\n",
    "     print(data)\n",
    "     print('--')\n",
    "    "
   ]
  },
  {
   "cell_type": "code",
   "execution_count": null,
   "metadata": {},
   "outputs": [],
   "source": []
  }
 ],
 "metadata": {
  "kernelspec": {
   "display_name": "base",
   "language": "python",
   "name": "python3"
  },
  "language_info": {
   "codemirror_mode": {
    "name": "ipython",
    "version": 3
   },
   "file_extension": ".py",
   "mimetype": "text/x-python",
   "name": "python",
   "nbconvert_exporter": "python",
   "pygments_lexer": "ipython3",
   "version": "3.10.10"
  },
  "orig_nbformat": 4
 },
 "nbformat": 4,
 "nbformat_minor": 2
}
